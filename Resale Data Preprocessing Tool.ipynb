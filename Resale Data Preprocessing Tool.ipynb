{
 "cells": [
  {
   "cell_type": "code",
   "execution_count": 1,
   "metadata": {},
   "outputs": [],
   "source": [
    "import pandas as pd\n",
    "import numpy as np\n",
    "import requests\n",
    "import ast\n",
    "import re"
   ]
  },
  {
   "cell_type": "code",
   "execution_count": 2,
   "metadata": {},
   "outputs": [],
   "source": [
    "resale_data = pd.read_csv('resale_data.csv',parse_dates=['month'],dayfirst=True)"
   ]
  },
  {
   "cell_type": "markdown",
   "metadata": {},
   "source": [
    "Using the base dataset (resale_data) already compiled, we want to query new data from the data.gov.sg API and append it to the current dataset"
   ]
  },
  {
   "cell_type": "markdown",
   "metadata": {},
   "source": [
    "### Input requested date range below"
   ]
  },
  {
   "cell_type": "code",
   "execution_count": 3,
   "metadata": {},
   "outputs": [],
   "source": [
    "#Get data in daterange (left and right-inclusive), in format \"YYYY-MM-01\"\n",
    "date1 = '2021-09-01'\n",
    "date2 = '2021-12-01'"
   ]
  },
  {
   "cell_type": "code",
   "execution_count": 4,
   "metadata": {},
   "outputs": [],
   "source": [
    "#URL for the API\n",
    "datagov_api = \"https://data.gov.sg/api/action/datastore_search?resource_id=f1765b54-a209-4718-8d38-a39237f502b3&limit=400000\"\n",
    "\n",
    "#Query the API for the latest dataset\n",
    "new_resale_data = pd.DataFrame(requests.get(datagov_api).json()['result']['records'])\n",
    "\n",
    "#Convert string to month\n",
    "new_resale_data['month'] = pd.to_datetime(new_resale_data['month'])\n",
    "\n",
    "#Convert resale price and floor area to int\n",
    "new_resale_data['resale_price'] = new_resale_data['resale_price'].astype(float).round(0).astype(int)\n",
    "new_resale_data['floor_area_sqm'] = new_resale_data['floor_area_sqm'].astype(float)\n",
    "\n",
    "#Convert floor area from sq metres to sq foot (more commonly used)\n",
    "new_resale_data['floor_area_sqft'] = new_resale_data['floor_area_sqm'].apply(lambda x: x*10.7639).round(2)\n",
    "new_resale_data.drop('floor_area_sqm',axis=1,inplace=True)\n",
    "\n",
    "new_resale_data = new_resale_data[new_resale_data['month'].between(date1,date2,inclusive='both')].reset_index(drop=True)"
   ]
  },
  {
   "cell_type": "markdown",
   "metadata": {},
   "source": [
    "The following is a simple find and replace function. This part requires some data exploration, as some locations in the data.gov.sg and OneMap APIs do not have the same spelling (e.g. Data.gov spells \"ST. GEORGE'S LANE\", OneMap spells \"SAINT GEORGE'S LANE\")"
   ]
  },
  {
   "cell_type": "code",
   "execution_count": 5,
   "metadata": {},
   "outputs": [],
   "source": [
    "def find_replace(x):\n",
    "    substr = x.replace(\"ST. GEORGE'S\",\"SAINT GEORGE'S\")\n",
    "    return substr\n",
    "\n",
    "new_resale_data['street_name'] = new_resale_data['street_name'].apply(find_replace)\n",
    "\n",
    "#Get the full address from combining the block number and street name\n",
    "new_resale_data['address'] = new_resale_data['block']+\" \"+new_resale_data['street_name']"
   ]
  },
  {
   "cell_type": "markdown",
   "metadata": {},
   "source": [
    "The following dataset (address_info.csv) is an extract from the OneMap API, which provides us with the postal code, building name (if applicable) and coordinates of an address. As querying the API directly takes a long time (server limits to 250 requests per minute), you can use the dataset provided to get location data by address."
   ]
  },
  {
   "cell_type": "code",
   "execution_count": 6,
   "metadata": {},
   "outputs": [],
   "source": [
    "address_info = pd.read_csv('address_info.csv')\n",
    "\n",
    "#Pandas reads the postal code as an integer instead of a string, so postal codes starting with '0' will lose it\n",
    "#Convert the postcode to a string and pad the front with zeros\n",
    "address_info['postcode'] = address_info['postcode'].astype(str).str.zfill(6)\n",
    "\n",
    "#Convert the string form of the coordinates to a tuple\n",
    "address_info['coordinates'] = address_info['coordinates'].apply(ast.literal_eval)\n",
    "\n",
    "#Convert the dataframe into a dictionary\n",
    "#The format of the dictionary is {address: [postcode, building_name, coordinates]}\n",
    "address_dict = address_info.set_index('address').T.to_dict('list')\n",
    "\n",
    "#Map the values onto the dataset\n",
    "for n,field in enumerate(['postcode','building']):\n",
    "    new_resale_data[field] = new_resale_data['address'].map(lambda x: address_dict[x][n] if x in address_dict.keys() else np.nan)"
   ]
  },
  {
   "cell_type": "markdown",
   "metadata": {},
   "source": [
    "If the address is not found in the address_dict, Pandas will return NaN values for that row."
   ]
  },
  {
   "cell_type": "code",
   "execution_count": 7,
   "metadata": {},
   "outputs": [],
   "source": [
    "def split_lease(x):\n",
    "    \"\"\"\n",
    "    Convert the lease remaining from \"{x} years {y} months\" into a float\n",
    "    \"\"\"\n",
    "    try:\n",
    "        return float(x)\n",
    "    except:\n",
    "        years = re.findall(r'\\d+(?= years)',x)\n",
    "        months = re.findall(r'\\d+(?= months)',x)\n",
    "        years,months = map(lambda a: int(a[0]) if len(a)>0 else 0,[years,months])\n",
    "        remaining = years+(months/12)\n",
    "\n",
    "        return round(remaining,2)\n",
    "    \n",
    "#Convert remaining lease to years\n",
    "new_resale_data['remaining_lease'] = new_resale_data['remaining_lease'].apply(split_lease)\n",
    "\n",
    "#Add resale price per square metre\n",
    "new_resale_data['psf'] = new_resale_data['resale_price']/new_resale_data['floor_area_sqft']\n",
    "\n",
    "#Rename columns\n",
    "new_resale_data.rename(columns={'street_name':'street'},inplace=True)"
   ]
  },
  {
   "cell_type": "code",
   "execution_count": 8,
   "metadata": {},
   "outputs": [
    {
     "data": {
      "text/plain": [
       "town                   0\n",
       "flat_type              0\n",
       "flat_model             0\n",
       "street                 0\n",
       "resale_price           0\n",
       "month                  0\n",
       "remaining_lease        0\n",
       "lease_commence_date    0\n",
       "storey_range           0\n",
       "_id                    0\n",
       "block                  0\n",
       "floor_area_sqft        0\n",
       "address                0\n",
       "postcode               0\n",
       "building               0\n",
       "psf                    0\n",
       "dtype: int64"
      ]
     },
     "execution_count": 8,
     "metadata": {},
     "output_type": "execute_result"
    }
   ],
   "source": [
    "#Check if there are any missing values\n",
    "new_resale_data.isnull().sum()"
   ]
  },
  {
   "cell_type": "markdown",
   "metadata": {},
   "source": [
    "The following code will query the OneMap REST API with the given address (block + street) of the entries with missing values. It will then extract the postcode and building name.\n",
    "\n",
    "If the search query returns more than 1 result, it will print the building names of the results and user will be prompted to choose the correct building.\n",
    "\n",
    "The null values of the new resale data are then filled in, and the address_info will be updated."
   ]
  },
  {
   "cell_type": "code",
   "execution_count": 9,
   "metadata": {},
   "outputs": [],
   "source": [
    "# Add your OneMap private token here\n",
    "# For instructions on how to get your token, visit https://discuss.onemap.sg/t/steps-for-api-authentication/59\n",
    "token = None\n",
    "\n",
    "class OneMap:\n",
    "    def __init__(self,token):\n",
    "        self.token = token\n",
    "        self.common = \"https://developers.onemap.sg/commonapi\"\n",
    "        self.private = \"https://developers.onemap.sg/privateapi\"\n",
    "    def rest(self,searchVal,returnGeom='Y',getAddrDetails='Y',pageNum=None):\n",
    "        url = self.common+f\"/search?searchVal={searchVal}&returnGeom={returnGeom}&getAddrDetails={getAddrDetails}\"\n",
    "        if pageNum is not None:\n",
    "            try:\n",
    "                url = url+f\"&pageNum={pageNum}\"\n",
    "            except:\n",
    "                pass\n",
    "        return requests.get(url).json()\n",
    "    \n",
    "    def routing(self):\n",
    "        \"\"\"\n",
    "        method still in progress\n",
    "        \"\"\"\n",
    "        pass\n",
    "    \n",
    "onemap = OneMap(token)"
   ]
  },
  {
   "cell_type": "code",
   "execution_count": 10,
   "metadata": {},
   "outputs": [],
   "source": [
    "for i,row in new_resale_data[new_resale_data['postcode'].isnull()].iterrows():\n",
    "    omresult = onemap.rest(row['address'])\n",
    "    if omresult['found']==1:\n",
    "        j = 0\n",
    "    else:\n",
    "        results = []\n",
    "        for result in omresult['results']:\n",
    "            results.append(result['BUILDING'])\n",
    "        print(f\"address_info is: {row['address']}\")\n",
    "        for n,r in enumerate(results):\n",
    "            print(f'Result {n}: {r}')\n",
    "        j = int(input('\\nWhich result is correct? '))\n",
    "    \n",
    "    postcode = omresult['results'][j]['POSTAL']\n",
    "    building = omresult['results'][j]['BUILDING']\n",
    "    lat = omresult['results'][j]['LATITUDE']\n",
    "    lng = omresult['results'][j]['LONGITUDE']\n",
    "        \n",
    "    building = row['address'] if building=='NIL' else building\n",
    "    \n",
    "    address_info = address_info.append({'postcode':postcode,\n",
    "                                       'address_info':row['address'],\n",
    "                                       'building':building,\n",
    "                                       'block':row['block'],\n",
    "                                       'street':row['street'],\n",
    "                                       'coordinates':(lat,lng)},ignore_index=True)\n",
    "    \n",
    "    new_resale_data.loc[i,'postcode'] = postcode\n",
    "    new_resale_data.loc[i,'building'] = building"
   ]
  },
  {
   "cell_type": "code",
   "execution_count": 11,
   "metadata": {},
   "outputs": [],
   "source": [
    "#Concat the old and new dataset and drop irrelevant columns\n",
    "final_resale_data = pd.concat([resale_data,new_resale_data],ignore_index=True).drop(['_id','address'],axis=1)\n",
    "\n",
    "#Sort the address_info dataframe\n",
    "address_info = address_info.sort_values(['postcode','address']).reset_index(drop=True)"
   ]
  },
  {
   "cell_type": "code",
   "execution_count": 12,
   "metadata": {},
   "outputs": [],
   "source": [
    "#Export as csv\n",
    "# final_resale_data.to_csv('new_resale_data.csv')\n",
    "# address_info.to_csv('new_address_info.csv')"
   ]
  }
 ],
 "metadata": {
  "kernelspec": {
   "display_name": "Python 3 (ipykernel)",
   "language": "python",
   "name": "python3"
  },
  "language_info": {
   "codemirror_mode": {
    "name": "ipython",
    "version": 3
   },
   "file_extension": ".py",
   "mimetype": "text/x-python",
   "name": "python",
   "nbconvert_exporter": "python",
   "pygments_lexer": "ipython3",
   "version": "3.9.7"
  }
 },
 "nbformat": 4,
 "nbformat_minor": 4
}
